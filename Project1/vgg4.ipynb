{
 "cells": [
  {
   "cell_type": "markdown",
   "metadata": {},
   "source": [
    "**Saad Khan and Nithun Selva**\n",
    "\n",
    "Spring 2025\n",
    "\n",
    "CS 444: Deep Learning\n",
    "\n",
    "Project 1: Deep Neural Networks \n",
    "\n",
    "#### Week 1: VGG4 and building a deep learning library"
   ]
  },
  {
   "cell_type": "code",
   "execution_count": 2,
   "metadata": {},
   "outputs": [
    {
     "name": "stdout",
     "output_type": "stream",
     "text": [
      "The autoreload extension is already loaded. To reload it, use:\n",
      "  %reload_ext autoreload\n"
     ]
    }
   ],
   "source": [
    "import numpy as np\n",
    "import tensorflow as tf\n",
    "import matplotlib.pyplot as plt\n",
    "\n",
    "plt.style.use(['seaborn-v0_8-colorblind', 'seaborn-v0_8-darkgrid'])\n",
    "plt.rcParams.update({'font.size': 18})\n",
    "\n",
    "np.set_printoptions(suppress=True, precision=4)\n",
    "\n",
    "# Automatically reload your external source code\n",
    "%load_ext autoreload\n",
    "%autoreload 2"
   ]
  },
  {
   "cell_type": "markdown",
   "metadata": {},
   "source": [
    "## Task 4. Train `VGG4` on MNIST and CIFAR-10\n",
    "\n",
    "Woohoo! VGG4 is built and tested! Time for some fun! 😎"
   ]
  },
  {
   "cell_type": "markdown",
   "metadata": {},
   "source": [
    "To train in a reasonable amount of time, upload your project code to CoCalc so that you can train on the GPU. See [instructions on the class website ](https://cs.colby.edu/courses/S25/cs444/software.html#cocalc) for getting this setup.\n",
    "\n",
    "*As noted on the website, if you have a higher-end Macbook with a Pro or Max chip and ≥ 16 GB of memory, you could probably run this workload on your computer if you would prefer. This is entirely optional and the cloud will almost certainly be faster than even the fastest Mac. Setting this up would just provide some extra convenience/flexibility. See the [macOS instructions](https://cs.colby.edu/courses/S25/cs444/software.html#tfmac) for setup.*\n",
    "\n",
    "Run the cell below to make sure TensorFlow is running on the GPU."
   ]
  },
  {
   "cell_type": "code",
   "execution_count": 2,
   "metadata": {},
   "outputs": [
    {
     "name": "stdout",
     "output_type": "stream",
     "text": [
      "Running on the GPU\n"
     ]
    }
   ],
   "source": [
    "gpus = tf.config.list_physical_devices('GPU')\n",
    "if len(gpus) > 0:\n",
    "    print('Running on the GPU')\n",
    "else:\n",
    "    print('NOT running on the GPU')"
   ]
  },
  {
   "cell_type": "code",
   "execution_count": 3,
   "metadata": {},
   "outputs": [],
   "source": [
    "from datasets import get_dataset\n",
    "from vgg_nets import VGG4"
   ]
  },
  {
   "cell_type": "markdown",
   "metadata": {},
   "source": [
    "### 4a. Train `VGG4` on MNIST on the GPU\n",
    "\n",
    "This will be a \"hello world\" test to make sure your `fit` method is working.\n",
    "\n",
    "Write code in the cell below to load in MNIST"
   ]
  },
  {
   "cell_type": "code",
   "execution_count": 11,
   "metadata": {},
   "outputs": [
    {
     "name": "stdout",
     "output_type": "stream",
     "text": [
      "Your training set data have shape (54000, 28, 28, 1) and they should be (54000, 28, 28, 1)\n",
      "Your training set labels have shape (54000,) and they should be (54000,)\n",
      "Your val set data have shape (6000, 28, 28, 1) and they should be (6000, 28, 28, 1)\n",
      "Your val set labels have shape (6000,) and they should be (6000,)\n",
      "Your test set data have shape (10000, 28, 28, 1) and they should be (10000, 28, 28, 1)\n",
      "Your test set labels have shape (10000,) and they should be (10000,)\n"
     ]
    }
   ],
   "source": [
    "#load mnist data\n",
    "x_train, y_train, x_val, y_val, x_test, y_test, classnames = get_dataset(\"mnist\")\n",
    "\n",
    "\n",
    "\n",
    "\n",
    "# KEEP ME\n",
    "print(f'Your training set data have shape {x_train.shape} and they should be (54000, 28, 28, 1)')\n",
    "print(f'Your training set labels have shape {y_train.shape} and they should be (54000,)')\n",
    "print(f'Your val set data have shape {x_val.shape} and they should be (6000, 28, 28, 1)')\n",
    "print(f'Your val set labels have shape {y_val.shape} and they should be (6000,)')\n",
    "print(f'Your test set data have shape {x_test.shape} and they should be (10000, 28, 28, 1)')\n",
    "print(f'Your test set labels have shape {y_test.shape} and they should be (10000,)')"
   ]
  },
  {
   "cell_type": "markdown",
   "metadata": {},
   "source": [
    "Train `VGG4` in the cell below on MNIST for `7` epochs and a batch size of `1024`! Print out your accuracy on the test set when training is done.\n",
    "\n",
    "The **entire** process of training and evaluating test accuracy should take no more than 1 min (*at most!*). If it is taking longer, seek help.\n",
    "\n",
    "Your print outs should look something like:\n",
    "\n",
    "```\n",
    "---------------------------------------------------------------------------\n",
    "Dense layer output(output) shape: [1, 10]\n",
    "Dropout layer output(dropout1) shape: [1, 128]\n",
    "Dense layer output(dense1) shape: [1, 128]\n",
    "Flatten layer output(flat) shape: [1, 12544]\n",
    "MaxPool2D layer output(maxpool1) shape: [1, 14, 14, 64]\n",
    "Conv2D layer output(conv2) shape: [1, 28, 28, 64]\n",
    "Conv2D layer output(conv1) shape: [1, 28, 28, 64]\n",
    "---------------------------------------------------------------------------\n",
    "Epoch 0/6, Training loss 1.54, Val loss 0.33, Val acc 89.94 \n",
    "Epoch 0 took: blah0 secs\n",
    "Epoch 1/6, Training loss 0.42, Val loss 0.17, Val acc 94.59 \n",
    "Epoch 1 took: blah1 secs\n",
    "...\n",
    "Epoch 6/6, Training loss surprise, Val loss surprise, Val acc surprise\n",
    "Epoch 6 took: blah6 secs\n",
    "Finished training after 7 epochs!\n",
    "VGG4 MNIST Test accuracy: surprise%\n",
    "```\n",
    "\n",
    "The val and test accuracy should be satisfyingly high — in the high 90s."
   ]
  },
  {
   "cell_type": "code",
   "execution_count": 12,
   "metadata": {},
   "outputs": [
    {
     "name": "stdout",
     "output_type": "stream",
     "text": [
      "---------------------------------------------------------------------------\n",
      "Dense layer output(Output) shape: [1, 10]\n",
      "Dropout layer output(Dropout) shape: [1, 128]\n",
      "Dense layer output(Dense_1) shape: [1, 128]\n",
      "Flatten layer output(Flatten) shape: [1, 12544]\n",
      "MaxPool2D layer output(MaxPool_1) shape: [1, 14, 14, 64]\n",
      "Conv2D layer output(Conv2D_2) shape: [1, 28, 28, 64]\n",
      "Conv2D layer output(Conv2D_1) shape: [1, 28, 28, 64]\n",
      "---------------------------------------------------------------------------\n",
      "Epoch 1/7 - Train Loss: 1.5478, Val Loss: 0.3252, Val Acc: 0.9037\n",
      "Epoch 1 completed in 5.02 seconds.\n",
      "Epoch 2/7 - Train Loss: 0.4575, Val Loss: 0.1944, Val Acc: 0.9451\n",
      "Epoch 2 completed in 2.03 seconds.\n",
      "Epoch 3/7 - Train Loss: 0.3585, Val Loss: 0.1574, Val Acc: 0.9535\n",
      "Epoch 3 completed in 2.06 seconds.\n",
      "Epoch 4/7 - Train Loss: 0.3114, Val Loss: 0.1350, Val Acc: 0.9607\n",
      "Epoch 4 completed in 1.88 seconds.\n",
      "Epoch 5/7 - Train Loss: 0.2750, Val Loss: 0.1162, Val Acc: 0.9684\n",
      "Epoch 5 completed in 1.79 seconds.\n",
      "Epoch 6/7 - Train Loss: 0.2446, Val Loss: 0.1096, Val Acc: 0.9709\n",
      "Epoch 6 completed in 1.88 seconds.\n",
      "Epoch 7/7 - Train Loss: 0.2204, Val Loss: 0.1018, Val Acc: 0.9714\n",
      "Epoch 7 completed in 1.95 seconds.\n",
      "Finished training after 7 epochs!\n",
      "Test Accuracy: 0.9638\n"
     ]
    }
   ],
   "source": [
    "# KEEP THIS SEED\n",
    "tf.random.set_seed(0)\n",
    "\n",
    "#train vgg4 model on mnist for 7 epochs with batch size 1024, report the accuracy on the test set\n",
    "model = VGG4(C=10, input_feats_shape=(28, 28, 1))\n",
    "model.compile(optimizer='adam', loss='cross_entropy')\n",
    "train_loss_hist, val_loss_hist, val_acc_hist, e = model.fit(x_train, y_train, x_val, y_val, max_epochs=7, batch_size=1024)\n",
    "\n",
    "#calculate the accuracy on the test set\n",
    "model.set_layer_training_mode(False)  # Disable dropout & batch norm during evaluation\n",
    "test_acc, test_loss = model.evaluate(x_test, y_test)\n",
    "print(f\"Test Accuracy: {test_acc:.4f}\")"
   ]
  },
  {
   "cell_type": "markdown",
   "metadata": {},
   "source": [
    "### 4b. Train `VGG4` on MNIST on the CPU\n",
    "\n",
    "To appreciate the advantage for training deep networks on GPUs instead of your computer's CPU, copy-paste your code above that trains your VGG4 net on MNIST below. Instead of running it on CoCalc, run it locally on your computer. Be sure to print out the time per epoch.\n",
    "\n",
    "*If the net takes >2 minutes per epoch on your computer, just train for one epoch then call it quits :)*"
   ]
  },
  {
   "cell_type": "code",
   "execution_count": 5,
   "metadata": {},
   "outputs": [
    {
     "name": "stdout",
     "output_type": "stream",
     "text": [
      "NOT running on the GPU\n",
      "---------------------------------------------------------------------------\n",
      "Dense layer output(Output) shape: [1, 10]\n",
      "Dropout layer output(Dropout) shape: [1, 128]\n",
      "Dense layer output(Dense_1) shape: [1, 128]\n",
      "Flatten layer output(Flatten) shape: [1, 12544]\n",
      "MaxPool2D layer output(MaxPool_1) shape: [1, 14, 14, 64]\n",
      "Conv2D layer output(Conv2D_2) shape: [1, 28, 28, 64]\n",
      "Conv2D layer output(Conv2D_1) shape: [1, 28, 28, 64]\n",
      "---------------------------------------------------------------------------\n",
      "Epoch 1/7 - Train Loss: 1.5415, Val Loss: 0.3168, Val Acc: 0.9047\n",
      "Epoch 1 completed in 23.82 seconds.\n",
      "Epoch 2/7 - Train Loss: 0.2644, Val Loss: 0.1466, Val Acc: 0.9563\n",
      "Epoch 2 completed in 21.80 seconds.\n",
      "Epoch 3/7 - Train Loss: 0.1527, Val Loss: 0.1174, Val Acc: 0.9652\n",
      "Epoch 3 completed in 21.59 seconds.\n",
      "Epoch 4/7 - Train Loss: 0.1156, Val Loss: 0.0942, Val Acc: 0.9733\n",
      "Epoch 4 completed in 21.54 seconds.\n",
      "Epoch 5/7 - Train Loss: 0.0945, Val Loss: 0.0835, Val Acc: 0.9765\n",
      "Epoch 5 completed in 22.74 seconds.\n",
      "Epoch 6/7 - Train Loss: 0.0797, Val Loss: 0.0844, Val Acc: 0.9736\n",
      "Epoch 6 completed in 22.33 seconds.\n",
      "Epoch 7/7 - Train Loss: 0.0655, Val Loss: 0.0675, Val Acc: 0.9807\n",
      "Epoch 7 completed in 22.48 seconds.\n",
      "Finished training after 7 epochs!\n",
      "Test Accuracy: 0.9765\n"
     ]
    }
   ],
   "source": [
    "gpus = tf.config.list_physical_devices('GPU')\n",
    "if len(gpus) > 0:\n",
    "    print('Running on the GPU')\n",
    "else:\n",
    "    print('NOT running on the GPU')\n",
    "\n",
    "\n",
    "# KEEP THIS SEED\n",
    "tf.random.set_seed(0)\n",
    "\n",
    "#train vgg4 model on mnist for 7 epochs with batch size 1024, report the accuracy on the test set\n",
    "model = VGG4(C=10, input_feats_shape=(28, 28, 1))\n",
    "model.compile(optimizer='adam', loss='cross_entropy')\n",
    "train_loss_hist, val_loss_hist, val_acc_hist, e = model.fit(x_train, y_train, x_val, y_val, max_epochs=7, batch_size=1024)\n",
    "\n",
    "#calculate the accuracy on the test set\n",
    "model.set_layer_training_mode(False)  # Disable dropout & batch norm during evaluation\n",
    "test_acc, test_loss = model.evaluate(x_test, y_test)\n",
    "print(f\"Test Accuracy: {test_acc:.4f}\")"
   ]
  },
  {
   "cell_type": "markdown",
   "metadata": {},
   "source": [
    "### 4c. Questions\n",
    "\n",
    "**Question 1:** Approximately how long did it take for 1 epoch of training with and without the GPU. Compute the relative compute time (`gpu_time_per_epoch`/`cpu_time_per_epoch`). What do you think?"
   ]
  },
  {
   "cell_type": "markdown",
   "metadata": {},
   "source": [
    "**Answer 1:** Given that on average for one epoch on the GPU it took around ~2 seconds, and on the CPU it took ~21 seconds, running it on the GPU was over 10x faster!"
   ]
  },
  {
   "cell_type": "markdown",
   "metadata": {},
   "source": [
    "### 4d. Train `VGG4` on CIFAR-10\n",
    "\n",
    "Now let's train on CIFAR-10. Run this (*and all subsequent large training sessions*) on CoCalc/the GPU 😊\n",
    "\n",
    "Write code in the cell below to load in CIFAR-10."
   ]
  },
  {
   "cell_type": "code",
   "execution_count": 13,
   "metadata": {},
   "outputs": [
    {
     "name": "stdout",
     "output_type": "stream",
     "text": [
      "Your training set data have shape (45000, 32, 32, 3) and they should be (45000, 32, 32, 3)\n",
      "Your training set labels have shape (45000,) and they should be (45000,)\n",
      "Your val set data have shape (5000, 32, 32, 3) and they should be (5000, 32, 32, 3)\n",
      "Your val set labels have shape (5000,) and they should be (5000,)\n",
      "Your test set data have shape (10000, 32, 32, 3) and they should be (10000, 32, 32, 3)\n",
      "Your test set labels have shape (10000,) and they should be (10000,)\n"
     ]
    }
   ],
   "source": [
    "x_train, y_train, x_val, y_val, x_test, y_test, classnames = get_dataset(\"cifar10\")\n",
    "\n",
    "\n",
    "# KEEP ME\n",
    "print(f'Your training set data have shape {x_train.shape} and they should be (45000, 32, 32, 3)')\n",
    "print(f'Your training set labels have shape {y_train.shape} and they should be (45000,)')\n",
    "print(f'Your val set data have shape {x_val.shape} and they should be (5000, 32, 32, 3)')\n",
    "print(f'Your val set labels have shape {y_val.shape} and they should be (5000,)')\n",
    "print(f'Your test set data have shape {x_test.shape} and they should be (10000, 32, 32, 3)')\n",
    "print(f'Your test set labels have shape {y_test.shape} and they should be (10000,)')"
   ]
  },
  {
   "cell_type": "markdown",
   "metadata": {},
   "source": [
    "Train `VGG4` on CIFAR-10 in the cell below for `15` epochs and use a batch size of `128`.\n",
    "\n",
    "*You should anticipate 10-20 secs per epoch of training. Thus, the whole training session should take ~2.5-5 mins. If this is far off, please seek help.*\n",
    "\n",
    "Plot the training and val loss over epochs. Put test acc in the title. *If everything is working, your training and validation loss should steadily decrease then start to plateau by the end of training.*"
   ]
  },
  {
   "cell_type": "code",
   "execution_count": 14,
   "metadata": {},
   "outputs": [
    {
     "name": "stdout",
     "output_type": "stream",
     "text": [
      "---------------------------------------------------------------------------\n",
      "Dense layer output(Output) shape: [1, 10]\n",
      "Dropout layer output(Dropout) shape: [1, 128]\n",
      "Dense layer output(Dense_1) shape: [1, 128]\n",
      "Flatten layer output(Flatten) shape: [1, 16384]\n",
      "MaxPool2D layer output(MaxPool_1) shape: [1, 16, 16, 64]\n",
      "Conv2D layer output(Conv2D_2) shape: [1, 32, 32, 64]\n",
      "Conv2D layer output(Conv2D_1) shape: [1, 32, 32, 64]\n",
      "---------------------------------------------------------------------------\n",
      "Epoch 1/15 - Train Loss: 1.8463, Val Loss: 1.5587, Val Acc: 0.4453\n",
      "Epoch 1 completed in 4.71 seconds.\n",
      "Epoch 2/15 - Train Loss: 1.5015, Val Loss: 1.2964, Val Acc: 0.5367\n",
      "Epoch 2 completed in 3.34 seconds.\n",
      "Epoch 3/15 - Train Loss: 1.3426, Val Loss: 1.1566, Val Acc: 0.5915\n",
      "Epoch 3 completed in 3.32 seconds.\n",
      "Epoch 4/15 - Train Loss: 1.2284, Val Loss: 1.0618, Val Acc: 0.6220\n",
      "Epoch 4 completed in 3.27 seconds.\n",
      "Epoch 5/15 - Train Loss: 1.1480, Val Loss: 1.0077, Val Acc: 0.6470\n",
      "Epoch 5 completed in 3.25 seconds.\n",
      "Epoch 6/15 - Train Loss: 1.0742, Val Loss: 0.9772, Val Acc: 0.6599\n",
      "Epoch 6 completed in 3.27 seconds.\n",
      "Epoch 7/15 - Train Loss: 1.0154, Val Loss: 0.9603, Val Acc: 0.6629\n",
      "Epoch 7 completed in 3.25 seconds.\n",
      "Epoch 8/15 - Train Loss: 0.9573, Val Loss: 0.9303, Val Acc: 0.6713\n",
      "Epoch 8 completed in 3.23 seconds.\n",
      "Epoch 9/15 - Train Loss: 0.9081, Val Loss: 0.9139, Val Acc: 0.6811\n",
      "Epoch 9 completed in 3.24 seconds.\n",
      "Epoch 10/15 - Train Loss: 0.8631, Val Loss: 0.9407, Val Acc: 0.6793\n",
      "Epoch 10 completed in 3.26 seconds.\n",
      "Epoch 11/15 - Train Loss: 0.8136, Val Loss: 0.9241, Val Acc: 0.6843\n",
      "Epoch 11 completed in 3.22 seconds.\n",
      "Epoch 12/15 - Train Loss: 0.7671, Val Loss: 0.9343, Val Acc: 0.6877\n",
      "Epoch 12 completed in 3.25 seconds.\n",
      "Epoch 13/15 - Train Loss: 0.7247, Val Loss: 0.9763, Val Acc: 0.6859\n",
      "Epoch 13 completed in 3.28 seconds.\n",
      "Epoch 14/15 - Train Loss: 0.6946, Val Loss: 0.9732, Val Acc: 0.6889\n",
      "Epoch 14 completed in 3.25 seconds.\n",
      "Epoch 15/15 - Train Loss: 0.6508, Val Loss: 0.9909, Val Acc: 0.6841\n",
      "Epoch 15 completed in 3.12 seconds.\n",
      "Finished training after 15 epochs!\n",
      "Test Accuracy: 0.6833\n"
     ]
    }
   ],
   "source": [
    "# KEEP THIS SEED\n",
    "tf.random.set_seed(0)\n",
    "\n",
    "#train vgg4 model on cifar10 for 15 epochs with batch size 128, report the accuracy on the test set\n",
    "\n",
    "model = VGG4(C=10, input_feats_shape=(32, 32, 3))\n",
    "model.compile(optimizer='adam', loss='cross_entropy')\n",
    "train_loss_hist, val_loss_hist, val_acc_hist, e = model.fit(x_train, y_train, x_val, y_val, max_epochs=15, batch_size=128)\n",
    "\n",
    "#calculate the accuracy on the test set\n",
    "model.set_layer_training_mode(False)  # Disable dropout & batch norm during evaluation\n",
    "test_acc, test_loss = model.evaluate(x_test, y_test)\n",
    "print(f\"Test Accuracy: {test_acc:.4f}\")\n"
   ]
  },
  {
   "cell_type": "code",
   "execution_count": 15,
   "metadata": {},
   "outputs": [
    {
     "data": {
      "image/png": "[encoded data removed]",
      "text/plain": [
       "<Figure size 1000x500 with 1 Axes>"
      ]
     },
     "metadata": {},
     "output_type": "display_data"
    }
   ],
   "source": [
    "#plot training and validation loss with test acc as the title\n",
    "plt.figure(figsize=(10, 5))\n",
    "plt.plot(train_loss_hist, label='train loss')\n",
    "plt.plot(val_loss_hist, label='val loss')\n",
    "plt.xlabel('Epoch')\n",
    "plt.ylabel('Loss')\n",
    "plt.legend()\n",
    "plt.title(f'Test Accuracy: {test_acc:.4f}')\n",
    "plt.show()"
   ]
  },
  {
   "cell_type": "markdown",
   "metadata": {},
   "source": [
    "### 4e. Experiment: Effect of batch size on runtime and accuracy\n",
    "\n",
    "To develop your intuition about how the choice of batch size generally affects runtime and accuracy on a dataset like CIFAR-10, run an experiment in which fresh `VGG4` nets are trained for `15` epochs with one of the following batch sizes:<br/>\n",
    "`[128, 256, 512, 1024, 2048]`. After each training run, record the test accuracy and runtime.\n",
    "\n",
    "Create two plots:\n",
    "1. The test accuracy (y axis) as a function of the batch size (x axis). There should be 5 markers joined by a single curve.\n",
    "2. The runtime (y axis) as a function of the batch size (x axis). There should be 5 markers joined by a single curve.\n",
    "\n",
    "**Note:**\n",
    "- Your `fit` method prints the runtime per epoch, but in this task you should record the total runtime over training and prediction. (in seconds). To do this, it may make sense to use the time module to record the total time in the notebook cell below.\n",
    "- You should be running this on the GPU!"
   ]
  },
  {
   "cell_type": "code",
   "execution_count": 9,
   "metadata": {},
   "outputs": [],
   "source": [
    "import time"
   ]
  },
  {
   "cell_type": "code",
   "execution_count": 10,
   "metadata": {},
   "outputs": [],
   "source": [
    "# KEEP THIS SEED\n",
    "tf.random.set_seed(0)\n"
   ]
  },
  {
   "cell_type": "code",
   "execution_count": null,
   "metadata": {},
   "outputs": [],
   "source": []
  },
  {
   "cell_type": "markdown",
   "metadata": {},
   "source": [
    "### 4f. Questions\n",
    "\n",
    "**Question 2:** What do the plots suggest to you about the relationship between batch size and accuracy? Please be specific,citing evidence from your plots.\n",
    "\n",
    "**Question 3:** Do you find this relationship surprising? Why or why not?"
   ]
  },
  {
   "cell_type": "markdown",
   "metadata": {},
   "source": [
    "**Answer 2:** "
   ]
  },
  {
   "cell_type": "markdown",
   "metadata": {},
   "source": [
    "**Answer 3:** "
   ]
  }
 ],
 "metadata": {
  "kernelspec": {
   "display_name": "base",
   "language": "python",
   "name": "python3"
  },
  "language_info": {
   "codemirror_mode": {
    "name": "ipython",
    "version": 3
   },
   "file_extension": ".py",
   "mimetype": "text/x-python",
   "name": "python",
   "nbconvert_exporter": "python",
   "pygments_lexer": "ipython3",
   "version": "3.12.8"
  }
 },
 "nbformat": 4,
 "nbformat_minor": 2
}
